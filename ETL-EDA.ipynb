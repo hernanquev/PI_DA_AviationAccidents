{
 "cells": [
  {
   "cell_type": "markdown",
   "metadata": {},
   "source": [
    "**`Proyecto Individual 2 - DA - Accidentes Aereos`**"
   ]
  },
  {
   "cell_type": "code",
   "execution_count": 15,
   "metadata": {},
   "outputs": [],
   "source": [
    "import pandas as pd\n",
    "import numpy as np"
   ]
  },
  {
   "cell_type": "code",
   "execution_count": 16,
   "metadata": {},
   "outputs": [],
   "source": [
    "df= pd.read_csv('AccidentesAviones.csv', encoding='utf-8')"
   ]
  },
  {
   "cell_type": "code",
   "execution_count": 25,
   "metadata": {},
   "outputs": [
    {
     "name": "stdout",
     "output_type": "stream",
     "text": [
      "<class 'pandas.core.frame.DataFrame'>\n",
      "RangeIndex: 5008 entries, 0 to 5007\n",
      "Data columns (total 17 columns):\n",
      " #   Column                Non-Null Count  Dtype         \n",
      "---  ------                --------------  -----         \n",
      " 0   Date                  5008 non-null   datetime64[ns]\n",
      " 1   Time                  3287 non-null   object        \n",
      " 2   Location              5003 non-null   object        \n",
      " 3   Operator              4998 non-null   object        \n",
      " 4   Flight                1326 non-null   object        \n",
      " 5   Route                 4245 non-null   object        \n",
      " 6   AC Type               4995 non-null   object        \n",
      " 7   Registration          4736 non-null   object        \n",
      " 8   Serial                4341 non-null   object        \n",
      " 9   Aboard                4991 non-null   object        \n",
      " 10  Passenger_Aboard      4787 non-null   object        \n",
      " 11  Crew_Aboard           4789 non-null   object        \n",
      " 12  Fatalities            5000 non-null   object        \n",
      " 13  Passenger_Fatalities  4773 non-null   object        \n",
      " 14  Crew_Fatalities       4773 non-null   object        \n",
      " 15  Ground_Fatalities     4964 non-null   object        \n",
      " 16  Summary               4949 non-null   object        \n",
      "dtypes: datetime64[ns](1), object(16)\n",
      "memory usage: 665.3+ KB\n"
     ]
    }
   ],
   "source": [
    "df.info()"
   ]
  },
  {
   "cell_type": "code",
   "execution_count": 18,
   "metadata": {},
   "outputs": [],
   "source": [
    "df.drop('Unnamed: 0', axis=1,inplace=True)"
   ]
  },
  {
   "cell_type": "code",
   "execution_count": 19,
   "metadata": {},
   "outputs": [],
   "source": [
    "columns_name = ['Date','Time','Location','Operator','Flight','Route','AC Type','Registration','Serial','Aboard','Passenger_Aboard','Crew_Aboard','Fatalities','Passenger_Fatalities','Crew_Fatalities','Ground_Fatalities','Summary']\n",
    "df.columns = columns_name"
   ]
  },
  {
   "cell_type": "code",
   "execution_count": 20,
   "metadata": {},
   "outputs": [],
   "source": [
    "df.replace('?', np.nan, inplace=True)"
   ]
  },
  {
   "cell_type": "code",
   "execution_count": 22,
   "metadata": {},
   "outputs": [
    {
     "data": {
      "text/plain": [
       "Date                       0\n",
       "Time                    1504\n",
       "Location                   5\n",
       "Operator                  10\n",
       "Flight                  3682\n",
       "Route                    763\n",
       "AC Type                   13\n",
       "Registration             272\n",
       "Serial                   667\n",
       "Aboard                    17\n",
       "Passenger_Aboard         221\n",
       "Crew_Aboard              219\n",
       "Fatalities                 8\n",
       "Passenger_Fatalities     235\n",
       "Crew_Fatalities          235\n",
       "Ground_Fatalities         44\n",
       "Summary                   59\n",
       "dtype: int64"
      ]
     },
     "execution_count": 22,
     "metadata": {},
     "output_type": "execute_result"
    }
   ],
   "source": [
    "df.isnull().sum()"
   ]
  },
  {
   "cell_type": "code",
   "execution_count": 23,
   "metadata": {},
   "outputs": [],
   "source": [
    "df['Date']= pd.to_datetime(df['Date'])"
   ]
  },
  {
   "cell_type": "code",
   "execution_count": 24,
   "metadata": {},
   "outputs": [],
   "source": [
    "df['Time'] = pd.to_datetime(df['Time'], format='%H%M', errors='coerce')\n",
    "df['Time'] = df['Time'].dt.strftime('%H:00')"
   ]
  },
  {
   "cell_type": "code",
   "execution_count": 26,
   "metadata": {},
   "outputs": [
    {
     "data": {
      "text/plain": [
       "Date                     0.000000\n",
       "Time                    34.365016\n",
       "Location                 0.099840\n",
       "Operator                 0.199681\n",
       "Flight                  73.522364\n",
       "Route                   15.235623\n",
       "AC Type                  0.259585\n",
       "Registration             5.431310\n",
       "Serial                  13.318690\n",
       "Aboard                   0.339457\n",
       "Passenger_Aboard         4.412939\n",
       "Crew_Aboard              4.373003\n",
       "Fatalities               0.159744\n",
       "Passenger_Fatalities     4.692492\n",
       "Crew_Fatalities          4.692492\n",
       "Ground_Fatalities        0.878594\n",
       "Summary                  1.178115\n",
       "dtype: float64"
      ]
     },
     "execution_count": 26,
     "metadata": {},
     "output_type": "execute_result"
    }
   ],
   "source": [
    "(df.isnull().sum()) / len(df) * 100"
   ]
  }
 ],
 "metadata": {
  "kernelspec": {
   "display_name": "Python 3",
   "language": "python",
   "name": "python3"
  },
  "language_info": {
   "codemirror_mode": {
    "name": "ipython",
    "version": 3
   },
   "file_extension": ".py",
   "mimetype": "text/x-python",
   "name": "python",
   "nbconvert_exporter": "python",
   "pygments_lexer": "ipython3",
   "version": "3.11.3"
  },
  "orig_nbformat": 4
 },
 "nbformat": 4,
 "nbformat_minor": 2
}
